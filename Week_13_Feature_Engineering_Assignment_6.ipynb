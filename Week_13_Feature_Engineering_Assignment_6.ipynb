{
 "cells": [
  {
   "cell_type": "markdown",
   "id": "36d3d2e6-00fb-479d-b900-965f90be28a7",
   "metadata": {},
   "source": [
    "### 1. Pearson correlation coefficient is a measure of the linear relationship between two variables. Suppose you have collected data on the amount of time students spend studying for an exam and their final exam scores. Calculate the Pearson correlation coefficient between these two variables and interpret the result."
   ]
  },
  {
   "cell_type": "code",
   "execution_count": 8,
   "id": "3bebc324-3447-48bd-9c58-049a274d1740",
   "metadata": {},
   "outputs": [
    {
     "name": "stdout",
     "output_type": "stream",
     "text": [
      "Pearson correlation coefficient: 0.993417272479711\n",
      "p-value: 8.150172771551031e-09\n",
      "There is a positive correlation between time spent studying and exam scores.\n"
     ]
    }
   ],
   "source": [
    "## importing required modules\n",
    "import numpy as np\n",
    "from scipy.stats import pearsonr\n",
    "\n",
    "## Sample data\n",
    "studying_time = [10, 8, 6, 7, 4, 5, 7, 9, 11, 13]\n",
    "exam_scores = [85, 80, 75, 77, 70, 72, 78, 82, 88, 90]\n",
    "\n",
    "## Calculate Pearson correlation coefficient\n",
    "correlation_coefficient, p_value = pearsonr(studying_time, exam_scores)\n",
    "\n",
    "## printing the results\n",
    "print(\"Pearson correlation coefficient:\", correlation_coefficient)\n",
    "print(\"p-value:\", p_value)\n",
    "\n",
    "## Interpretation of the correlation coefficient\n",
    "if correlation_coefficient > 0:\n",
    "    print(\"There is a positive correlation between time spent studying and exam scores.\")\n",
    "elif correlation_coefficient < 0:\n",
    "    print(\"There is a negative correlation between time spent studying and exam scores.\")\n",
    "else:\n",
    "    print(\"There is no linear correlation between time spent studying and exam scores.\")"
   ]
  },
  {
   "cell_type": "markdown",
   "id": "62746d9d-fe74-4a84-a050-1361ac6a5da0",
   "metadata": {},
   "source": [
    "### 2. Spearman's rank correlation is a measure of the monotonic relationship between two variables. Suppose you have collected data on the amount of sleep individuals get each night and their overall job satisfaction level on a scale of 1 to 10. Calculate the Spearman's rank correlation between these two variables and interpret the result."
   ]
  },
  {
   "cell_type": "code",
   "execution_count": 7,
   "id": "c1a097cf-4aba-439d-b081-c84b2a8fe6ed",
   "metadata": {},
   "outputs": [
    {
     "name": "stdout",
     "output_type": "stream",
     "text": [
      "Spearman's rank correlation coefficient: 0.8076923076923078\n",
      "p-value: 0.004710396160201765\n",
      "There is a positive monotonic relationship between sleep hours and job satisfaction.\n"
     ]
    }
   ],
   "source": [
    "## importing required modules\n",
    "from scipy.stats import spearmanr\n",
    "\n",
    "## Sample data\n",
    "sleep_hours = [7, 6, 8, 5, 7, 9, 6, 8, 7, 6]\n",
    "job_satisfaction = [8, 6, 7, 5, 8, 9, 6, 7, 8, 6]\n",
    "\n",
    "## Calculate Spearman rank correlation coefficient\n",
    "correlation_coefficient, p_value = spearmanr(sleep_hours, job_satisfaction)\n",
    "\n",
    "## printing the results\n",
    "print(\"Spearman's rank correlation coefficient:\", correlation_coefficient)\n",
    "print(\"p-value:\", p_value)\n",
    "\n",
    "## Interpretation of the correlation coefficient\n",
    "if correlation_coefficient > 0:\n",
    "    print(\"There is a positive monotonic relationship between sleep hours and job satisfaction.\")\n",
    "elif correlation_coefficient < 0:\n",
    "    print(\"There is a negative monotonic relationship between sleep hours and job satisfaction.\")\n",
    "else:\n",
    "    print(\"There is no monotonic relationship between sleep hours and job satisfaction.\")"
   ]
  },
  {
   "cell_type": "markdown",
   "id": "6b1b449a-a6f6-48ae-8a85-aa6fa448adad",
   "metadata": {},
   "source": [
    "### 3. Suppose you are conducting a study to examine the relationship between the number of hours of exercise per week and body mass index (BMI) in a sample of adults. You collected data on both variables for 50 participants. Calculate the Pearson correlation coefficient and the Spearman's rank correlation between these two variables and compare the results."
   ]
  },
  {
   "cell_type": "code",
   "execution_count": 6,
   "id": "618966b2-0a53-484b-b11c-212ec29b9b0f",
   "metadata": {},
   "outputs": [
    {
     "name": "stdout",
     "output_type": "stream",
     "text": [
      "Pearson correlation coefficient: -0.9643248841438173\n",
      "Spearman's rank correlation coefficient: -0.970009266988296\n",
      "p-value for Pearson correlation: 2.3338401983250187e-29\n",
      "p-value for Spearman's correlation: 3.8607029376245944e-31\n"
     ]
    }
   ],
   "source": [
    "## importing the required modules\n",
    "import numpy as np\n",
    "from scipy.stats import pearsonr, spearmanr\n",
    "\n",
    "## Sample data\n",
    "exercise_hours = [3, 5, 2, 4, 6, 1, 3, 5, 7, 2, 4, 6, 1, 3, 5, 7, 2, 4, 6, 1,\n",
    "                  3, 5, 7, 2, 4, 6, 1, 3, 5, 7, 2, 4, 6, 1, 3, 5, 7, 2, 4, 6,\n",
    "                  1, 3, 5, 7, 2, 4, 6, 1, 3, 5]\n",
    "BMI = [25, 23, 27, 24, 22, 28, 26, 23, 21, 29, 24, 22, 28, 26, 23, 21, 29,\n",
    "       24, 22, 28, 26, 23, 21, 29, 24, 22, 28, 26, 23, 21, 29, 24, 22, 28,\n",
    "       26, 23, 21, 29, 24, 22, 28, 26, 23, 21, 29, 24, 22, 28, 26, 23]\n",
    "\n",
    "## Calculate Pearson correlation coefficient\n",
    "pearson_corr, pearson_p_value = pearsonr(exercise_hours, BMI)\n",
    "\n",
    "## Calculate Spearman's rank correlation coefficient\n",
    "spearman_corr, spearman_p_value = spearmanr(exercise_hours, BMI)\n",
    "\n",
    "## printing the comparision results\n",
    "print(\"Pearson correlation coefficient:\", pearson_corr)\n",
    "print(\"Spearman's rank correlation coefficient:\", spearman_corr)\n",
    "\n",
    "print(\"p-value for Pearson correlation:\", pearson_p_value)\n",
    "print(\"p-value for Spearman's correlation:\", spearman_p_value)"
   ]
  },
  {
   "cell_type": "markdown",
   "id": "6fbcffac-c642-4461-931f-fb7c1d44fa6e",
   "metadata": {},
   "source": [
    "### 4. A researcher is interested in examining the relationship between the number of hours individuals spend watching television per day and their level of physical activity. The researcher collected data on both variables from a sample of 50 participants. Calculate the Pearson correlation coefficient between these two variables."
   ]
  },
  {
   "cell_type": "code",
   "execution_count": 10,
   "id": "e36b45f3-cb19-43e8-98c6-eb9ba2464ce0",
   "metadata": {},
   "outputs": [
    {
     "name": "stdout",
     "output_type": "stream",
     "text": [
      "Pearson correlation coefficient: -0.16332391679779687\n"
     ]
    }
   ],
   "source": [
    "## importing required modules\n",
    "import numpy as np\n",
    "from scipy.stats import pearsonr\n",
    "\n",
    "## Sample data: hours of TV watching per day and level of physical activity\n",
    "tv_hours_per_day = [3, 2, 4, 1, 5, 2, 3, 1, 4, 2, 5, 3, 1, 4, 2, 5, 3, 1, 4, 2,\n",
    "                    5, 3, 1, 4, 2, 5, 3, 1, 4, 2, 5, 3, 1, 4, 2, 5, 3, 1, 4, 2,\n",
    "                    5, 3, 1, 4, 2, 5, 3, 1, 4, 2]\n",
    "physical_activity_level = [2, 3, 2, 4, 1, 3, 2, 4, 1, 3, 2, 4, 1, 3, 2, 4, 1, 3, 2,\n",
    "                           4, 1, 3, 2, 4, 1, 3, 2, 4, 1, 3, 2, 4, 1, 3, 2, 4, 1, 3,\n",
    "                           2, 4, 1, 3, 2, 4, 1, 3, 2, 4, 1, 3]\n",
    "\n",
    "## Calculate Pearson correlation coefficient\n",
    "pearson_corr, p_value = pearsonr(tv_hours_per_day, physical_activity_level)\n",
    "\n",
    "## printing the results\n",
    "print(\"Pearson correlation coefficient:\", pearson_corr)\n"
   ]
  },
  {
   "cell_type": "markdown",
   "id": "3f88e264-6b42-4acf-9692-e13cec3920a3",
   "metadata": {},
   "source": [
    "### 5. A survey was conducted to examine the relationship between age and preference for a particular brand of soft drink. The survey results are shown below:\n",
    "\n",
    "|            Age(year)                 |              soft drink preference            |\n",
    "|--------------------------------------|-----------------------------------------------|\n",
    "|25|coke|\n",
    "|42|pepsi|\n",
    "|37|Mountain dew|\n",
    "|19|Coke|\n",
    "|31|Pepsi|\n",
    "|28|Coke|"
   ]
  },
  {
   "cell_type": "markdown",
   "id": "c4f6ad67-f2bb-4346-8fb3-2a17ea7dc50a",
   "metadata": {},
   "source": [
    "Observation based on Given data : \n",
    "- People who are aged below 30 years are giving preference to Coke branded softdrink\n",
    "- people above 30 years are mixed and prefer both mountain dew, pepsi as preferred soft drink."
   ]
  },
  {
   "cell_type": "markdown",
   "id": "5d574745-60b2-4147-afb4-4aee073a175f",
   "metadata": {},
   "source": [
    "### 6. A company is interested in examining the relationship between the number of sales calls made per day and the number of sales made per week. The company collected data on both variables from a sample of 30 sales representatives. Calculate the Pearson correlation coefficient between these two variables."
   ]
  },
  {
   "cell_type": "code",
   "execution_count": 11,
   "id": "437345f3-b28a-4bba-8b30-8b41f76b89ae",
   "metadata": {},
   "outputs": [
    {
     "name": "stdout",
     "output_type": "stream",
     "text": [
      "Pearson correlation coefficient: 0.9198212989548957\n"
     ]
    }
   ],
   "source": [
    "## importing required modules\n",
    "import numpy as np\n",
    "from scipy.stats import pearsonr\n",
    "\n",
    "## Sample data\n",
    "sales_calls_per_day = [20, 15, 25, 18, 22, 19, 21, 17, 23, 16, \n",
    "                       24, 20, 18, 22, 19, 21, 17, 23, 16, 24,\n",
    "                       20, 15, 25, 18, 22, 19, 21, 17, 23, 16]\n",
    "sales_per_week = [5, 4, 6, 5, 6, 5, 6, 4, 7, 4, \n",
    "                   7, 5, 5, 6, 5, 6, 4, 7, 4, 7,\n",
    "                   5, 4, 6, 5, 6, 5, 6, 4, 7, 4]\n",
    "\n",
    "## Calculate Pearson correlation coefficient\n",
    "pearson_corr, _ = pearsonr(sales_calls_per_day, sales_per_week)\n",
    "\n",
    "## printing the results\n",
    "print(\"Pearson correlation coefficient:\", pearson_corr)"
   ]
  }
 ],
 "metadata": {
  "kernelspec": {
   "display_name": "Python 3 (ipykernel)",
   "language": "python",
   "name": "python3"
  },
  "language_info": {
   "codemirror_mode": {
    "name": "ipython",
    "version": 3
   },
   "file_extension": ".py",
   "mimetype": "text/x-python",
   "name": "python",
   "nbconvert_exporter": "python",
   "pygments_lexer": "ipython3",
   "version": "3.10.8"
  }
 },
 "nbformat": 4,
 "nbformat_minor": 5
}
