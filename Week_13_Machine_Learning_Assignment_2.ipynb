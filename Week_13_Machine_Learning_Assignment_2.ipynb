{
 "cells": [
  {
   "cell_type": "markdown",
   "id": "7a3ba43d-5d8d-4507-829e-155f80235428",
   "metadata": {},
   "source": [
    "### 1 . Define overfitting and underfitting in machine learning. what are the consequences of each and how can they be mitigated ?"
   ]
  },
  {
   "cell_type": "markdown",
   "id": "a4d2a2aa-b6f9-4849-8c43-ab816eaae850",
   "metadata": {},
   "source": [
    "##### 1 . Overfitting :\n",
    "- Overfitting occurs when a model learns to capture noise and random fluctuations in the training data rather than the underlying pattern or relationship. as a result the model performs well on training data but poorly on unseen test data.\n",
    "\n",
    "- Consequences : \n",
    "1. poor generalization, the model fails to generalize well to new, unseen data\n",
    "2. High variance, the model's predictions are highly sensitive to small changes in the training data.\n",
    "\n",
    "- Mitigation techniques :\n",
    "1. cross validation , use techniques like k-fold cross-validation to asses model performance on multiple splits of data.\n",
    "2. Regularization, introduce penalty to model complexity, such as L1,L2 to discourage overfitting by penalizing large parameter values.\n",
    "\n",
    "##### 2 . Underfitting : \n",
    "- Underfitting occurs when a model is too simple to capture the underlying structure of data. it fails to capture the patterns in the training data and performs poorly even on the training set\n",
    "\n",
    "- Consequences:\n",
    "1. High bias, the model is too simplistic to capture the underlying relationships in the data.\n",
    "2. poor performance, model's predictions are inaccurate,both on the training and unseen data.\n",
    "\n",
    "- Mitigation technique :\n",
    "1. increase model complexity, use more complex models with higer capacity such as adding more layers or nodes in neral networks or increasing the complexity of decision trees.\n",
    "2. Feature engineering , engineer more information features that better captures the underlying realtionships in data."
   ]
  },
  {
   "cell_type": "markdown",
   "id": "3901bf76-c864-4bba-9ebe-12b3c9f264bb",
   "metadata": {},
   "source": [
    "### 2 . How can we reduce Overfitting ? explain in brief ."
   ]
  },
  {
   "cell_type": "markdown",
   "id": "e9c411d2-b277-4b97-b951-2cad464c4e54",
   "metadata": {},
   "source": [
    "##### To reduce ovverfitting in machine learning models, several techniqies can be employed\n",
    "1. Cross-validation : Use techniques like k-fold cross-validation to asses model performance on multiple splits of data. this ensures it performs consistently across different subsets of data.\n",
    "\n",
    "2. Regularization : Introduces penalties to the model's complexity, such as L1,L2. These penalities discourage overfitting by penalizing large parameter values.\n",
    "\n",
    "3. Dropout : In neural networks, randoly deactivate neurons during training to prevent them from co-adapting and overfitting. dropout helps in promoting model robustness and generalization.\n",
    "\n",
    "4. Early stopping : Monitor the models performance on a validation set during training and stop training when performance starts to degrade. early stopping prevents the model from overfitting to the training data by halting training before it starts to memorize noise.\n",
    "\n",
    "5. Feauture selection/reduction : select a subset of relevant features or reduce the dimensionality of the data to reduce model complexity. this helps in focusing on informative features and avoid overfitting.\n",
    "\n",
    "6. Ensemble Methods : Combine multiple models to make redictions such as bagging,boosting or stacking. ensemble methods help in reducing overfitting by aggregating the predictions of multiple models."
   ]
  },
  {
   "cell_type": "markdown",
   "id": "f1f0c4ff-ec08-4665-97d7-99c671b1911e",
   "metadata": {},
   "source": [
    "### 3 . Explain underfitting. List scenarios where underfitting can occur in ML."
   ]
  },
  {
   "cell_type": "markdown",
   "id": "6b7f9548-c7d1-4e52-a712-768c675a1b01",
   "metadata": {},
   "source": [
    "- Underfitting occurs when a machine learning model is too simple to capture the underlying structure of data. in other words the model fails to learn the patterns and relationships present in the training data, resulting in pooor performance on both the training data and unseen data.\n",
    "\n",
    "#### Scenatios where underfitting can occur in ML:\n",
    "\n",
    "##### 1. Linear Models on non-linear data:\n",
    "- Using simple linear regression model to fit non-linear data can lead to underfitting. linear models are unable to capture the non-linear relationship present in data.\n",
    "\n",
    "##### 2. Insufficient training :\n",
    "- if the model is not trained for a sufficent number of epochs or if the training data is not representative of the underlying distribution, the model may underfit.\n",
    "\n",
    "##### 3. Too few features : \n",
    "- if the model on limited set of features that do not adequetly represent the underlying relationships in data, it may underfit.adding more features or performing feature engineering can help mitigate underfitting.\n",
    "\n",
    "##### 4. Over regularization :\n",
    "- Excessive regualrization such as high penalty term in L1 or L2 regularization can lead to underfitting. Regularizationis intended to prevent overfitting by penalizing model complexity.\n",
    "\n",
    "##### 5. Small dataset : \n",
    "- when the size of dataset is small the model may struggle to learn the underlying patterns and relationships.\n",
    "\n",
    "##### 6. Inappropriate model selection :\n",
    "- Choosing model that is too simple for the  complexity of the problem can result underfitting . \n",
    "\n",
    "##### 7. Ignoring important variables :\n",
    "- If important variables or factors inflencing the target variable are omitted from the model. it may undefit. ensuring that al relevant variables are included in the model can help prevent underfitting"
   ]
  },
  {
   "cell_type": "markdown",
   "id": "70f1581d-19a3-4123-b8de-f9bc022cea64",
   "metadata": {},
   "source": [
    "### 4 . Explain Bias-variance trade off in machine learning. what is the relationship betwen bias and variance how do they affect model performance ?"
   ]
  },
  {
   "cell_type": "markdown",
   "id": "119fcb6b-01a7-4637-8558-e432d474f8b6",
   "metadata": {},
   "source": [
    "- The bias-varinace tradeoff is a fundamental concept in machine learning that describes the balance between the model's ability to capture the underlying patterns in the data and its sensitivity to variantoins in the training data.\n",
    "\n",
    "##### Bias :\n",
    "- Bias refers to the error introduced by approximating a real-world problem with a simplified model. a high bias model tends to oversimplify the underlying patterns in the data.leading to underfitting. this means the model fails to capture the complexity of the data and performs pooorly both on training and unseen data.\n",
    "\n",
    "##### Variance :\n",
    "- Variance on other hand refers to the models sensitivity to variations in the training data. a high variance model captures random noise or fluctuations in the training data. rather than the undrlying patterns. such models tend to overfit the training data. performing well on training data but poortly on unseen data because they have essentially memorized the noise rather than learned the underlying patterns."
   ]
  },
  {
   "cell_type": "markdown",
   "id": "fc0e3afc-6d6e-429a-93ef-fe6db37e268f",
   "metadata": {},
   "source": [
    "### 5 . Discuss some common methods for detecting overfitting and underfitting in machine learning models. how can you determine whether your model is overfittingor underfitting."
   ]
  },
  {
   "cell_type": "markdown",
   "id": "ab09082b-1d7d-4d31-bbaa-ee32f1623b0c",
   "metadata": {},
   "source": [
    "##### Detecting overfitting and underfitting in machine learning is crucial for ensuring models performance.\n",
    "\n",
    "1. Visual inspection of learning curve :\n",
    "- plotting learning curves of the model performance as a function of training iterations or epochs can provide insights into whether model is overfitting or underfitting.\n",
    "\n",
    "2. Model complexity analysis :\n",
    "- by systematically varying the complexity of the model, you can observe how the performance changes. if the perfomance improves on the training set but deteriorates on validation set with increased model complexity its a sign of overfitting.\n",
    "\n",
    "3. Cross-validation :\n",
    "- techniques like k-fold cross-validation can help assessing the models performance across different subsets of data. if the model performs well on the training folds but poorly on the validation fold. it indicates overfitting.and underfitting if its the opposite.\n",
    "\n",
    "4. Regularization Techniques :\n",
    "- Applying regularization methods like L1 and L2 can help mitigate overfiting by penalizing large weights in the model. monitoring performance during training with and without regularizatoin can provide insights whether overfitting is occuring.\n",
    "\n",
    "5. Validation set performance :\n",
    "- apart from using validation set during model training,evaluating model performance on seperate test set can confirm whether the observed performance is consistent across different data. if the model performs worse on test set compared to training set. its likely overfitting.\n",
    "\n",
    "6. bias-variance analysis :\n",
    "- analyzing the bias-variance tradeoff can provide insights into whether the model is overfitting or underfitting. a high training error and a large gap between training and validation error typically indicate overfitting, while high training and validation error suggest underfitting.\n",
    "\n",
    "##### Determining whether model is overfitting or underfitting \n",
    "- requires careful analysis of its performance on training,validation and test data, along with considering the complexity of the model and its ability to generaliza to unseen data. employing the combination of above methods can help diagnose and address these issues effectively."
   ]
  },
  {
   "cell_type": "markdown",
   "id": "ff921901-f0c8-48d6-9d15-ca1690429980",
   "metadata": {},
   "source": [
    "### 6 . Compare and contrast bias and variancein machine learning. what are some examples of high bias and high varinace models and how do they differ in terms of thier performance."
   ]
  },
  {
   "cell_type": "markdown",
   "id": "36c468d1-1818-49b8-ba5c-e2a6a6ff31de",
   "metadata": {},
   "source": [
    "|              Bias                 |              Variance                        |\n",
    "|------------------------------------|---------------------------------------------|\n",
    "|1. Bias refers to the error introduced by approximating a real-world problem with simplified model|1. Variance refers to the models sensitivity to variations in the training data|\n",
    "|2. High bias models tends to oversimplify the underlying patterns in the data,leading to underfitting|2. High variance models can capture random noise or flutuations in the training data, leading to overfitting.\n",
    "|3. They are less sensitive to variations in the trainging data and tend to have lower complexity|3. They have higher complexity and are more sensitive to changes in training data.\n",
    "|4. High bias models often exhibit high training and validation errors|4. high variance models may perform well on training data but poorly on unseen data.|\n",
    "\n",
    "\n",
    "##### Comparing high bias and high varinace :\n",
    "|                  High Bias                    |                High Variance                |\n",
    "|-------------------------------------------------|--------------------------------------------|\n",
    "|1. Example: A linear regression model applied to a non-linear data set.|1. Example : a deep neural network with large number of hidden layers trained on a samll dataset|\n",
    "|2.characteristics: | 2. Characteristics : |\n",
    "| - oversimplify the underlying patterns in data | - Capture random noise  or fluctuations in the training data|\n",
    "| - fail to capture the complexity of the data | - Memorize the training data instead of learning underlying patterns|\n",
    "| - Exhibit error on both training and validation data | - Perform well on the training data but poorly on unseen data |\n",
    "| 3. Performance : | 3. Performance : |\n",
    "|- High training and validation errors | - Low training error but high validation error|\n",
    "|- Poor Generalization to unseen data | - Overfitting occurs |\n",
    "|- Underfitting occurs | - May suffer from poor generalization to unseen data |"
   ]
  },
  {
   "cell_type": "markdown",
   "id": "09e9178c-a69b-4d22-824c-5c818df543b4",
   "metadata": {},
   "source": [
    "### 7 . What is regularization in Machine Learning ? how can it be used to prevent overfitting ? describe some common regularization teachniques and how they work."
   ]
  },
  {
   "cell_type": "markdown",
   "id": "ee75b0d7-3170-4494-b7bb-c79ff21a96d7",
   "metadata": {},
   "source": [
    "##### Regularization :\n",
    "- It is a technique used to prevent overfitting by adding a penalty term to the model's objective funtion. encouraging it to learn simpler patterns and reduce the complexity of the learned model. the primary goal of regularization  is to improve the model's ability to generalize to unseen data.\n",
    "\n",
    "##### Common regularization techniques\"\n",
    "1. L1 Regularization (Lasso) :\n",
    "- it adds a penalty term proportional to the absolute value of the coefficients to the loss function.\n",
    "- it encourages sparsity in the model by driving some of the coefficients to zero, effectively selecting subset of features.\n",
    "- L1 regularization is particularly useful when dealing with high-dimensional data where feature selection is desirable\n",
    "\n",
    "2. L2 Regularization (Ridge) :\n",
    "- It adds penalty term proportional to the square of the coefficients to the loss function.\n",
    "- It penalizes large coefficients while still keeping all features of the model.\n",
    "- it helps in reducing the magnitude of the coefficients, preventing them from becoming too large and causing overfitting.\n",
    "\n",
    "3. Elastic Net Regularization :\n",
    "- it combines both L1 and L2 penalties to overcome thier limitations\n",
    "- it is beneficial when dealing with datasets with highly correlated features\n",
    "- it adds penalty term that is combination of the L1 and L2 norms, allowing for both feature selection and coefficient shrinkage.\n",
    "\n",
    "4. Dropout :\n",
    "- it is a regularization tecnique commonly used in neural networks.\n",
    "- During training,random neurons are temporarily dropped out or ignored with certain probability.\n",
    "- this prevents the network from relying too much on any individual neuron forcing it learn more robust and generalizeble features.\n",
    "\n",
    "5. Early Stopping :\n",
    "- it is simple yet effective regularization technique that prevents the model from overfitting by monitoring its performance on validation set during training.\n",
    "- training is stopped when the performance on the validation set starts to deteriorate, indicating that model has started to overfit.\n",
    "- by halting before overfitting occurs early stopping helps obtaining a model that generalizes well to unseen data."
   ]
  }
 ],
 "metadata": {
  "kernelspec": {
   "display_name": "Python 3 (ipykernel)",
   "language": "python",
   "name": "python3"
  },
  "language_info": {
   "codemirror_mode": {
    "name": "ipython",
    "version": 3
   },
   "file_extension": ".py",
   "mimetype": "text/x-python",
   "name": "python",
   "nbconvert_exporter": "python",
   "pygments_lexer": "ipython3",
   "version": "3.10.8"
  }
 },
 "nbformat": 4,
 "nbformat_minor": 5
}
