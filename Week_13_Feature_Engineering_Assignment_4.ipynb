{
 "cells": [
  {
   "cell_type": "markdown",
   "id": "9055701d-f5fc-4870-9e12-47515838090d",
   "metadata": {},
   "source": [
    "### 1. What is data encoding ? how is it useful in data science ?"
   ]
  },
  {
   "cell_type": "markdown",
   "id": "60f4d374-b79b-4c96-9f7d-fbcb5d323365",
   "metadata": {},
   "source": [
    "- Data encoding refers to the process of converting categorical or textual data into numerical format. so that it can be used as input for algorithms to process. the reason for encoding is that most machine learning algorithms owrk with numbers and not with text or categorical variables.\n",
    "\n",
    "- Data encoding is important in data science as it helps in converting data from machine-readable format back to a human-readable format. this crucial in understanding the results of data analysis and machine learning models and in communicating these results to stake holders. "
   ]
  },
  {
   "cell_type": "markdown",
   "id": "6ed65f84-167d-4913-8d67-e33b416f6dae",
   "metadata": {},
   "source": [
    "### 2. What is nominal encoding? Provide an example of how you would use it in a real-world scenario."
   ]
  },
  {
   "cell_type": "markdown",
   "id": "e62c473a-b7a6-43a4-baa7-341f962781af",
   "metadata": {},
   "source": [
    "- nominal encoding or one hot encoding is a technique to represent categorical data as numerical data. in this technique each category is represented as binary vector where each bit corresponds to unique category. "
   ]
  },
  {
   "cell_type": "code",
   "execution_count": 6,
   "id": "4e3993ac-a724-42a8-9997-b3572b549815",
   "metadata": {},
   "outputs": [
    {
     "data": {
      "text/html": [
       "<div>\n",
       "<style scoped>\n",
       "    .dataframe tbody tr th:only-of-type {\n",
       "        vertical-align: middle;\n",
       "    }\n",
       "\n",
       "    .dataframe tbody tr th {\n",
       "        vertical-align: top;\n",
       "    }\n",
       "\n",
       "    .dataframe thead th {\n",
       "        text-align: right;\n",
       "    }\n",
       "</style>\n",
       "<table border=\"1\" class=\"dataframe\">\n",
       "  <thead>\n",
       "    <tr style=\"text-align: right;\">\n",
       "      <th></th>\n",
       "      <th>color_blue</th>\n",
       "      <th>color_green</th>\n",
       "      <th>color_red</th>\n",
       "    </tr>\n",
       "  </thead>\n",
       "  <tbody>\n",
       "    <tr>\n",
       "      <th>0</th>\n",
       "      <td>0.0</td>\n",
       "      <td>0.0</td>\n",
       "      <td>1.0</td>\n",
       "    </tr>\n",
       "    <tr>\n",
       "      <th>1</th>\n",
       "      <td>1.0</td>\n",
       "      <td>0.0</td>\n",
       "      <td>0.0</td>\n",
       "    </tr>\n",
       "    <tr>\n",
       "      <th>2</th>\n",
       "      <td>0.0</td>\n",
       "      <td>1.0</td>\n",
       "      <td>0.0</td>\n",
       "    </tr>\n",
       "    <tr>\n",
       "      <th>3</th>\n",
       "      <td>0.0</td>\n",
       "      <td>1.0</td>\n",
       "      <td>0.0</td>\n",
       "    </tr>\n",
       "    <tr>\n",
       "      <th>4</th>\n",
       "      <td>0.0</td>\n",
       "      <td>0.0</td>\n",
       "      <td>1.0</td>\n",
       "    </tr>\n",
       "    <tr>\n",
       "      <th>5</th>\n",
       "      <td>1.0</td>\n",
       "      <td>0.0</td>\n",
       "      <td>0.0</td>\n",
       "    </tr>\n",
       "  </tbody>\n",
       "</table>\n",
       "</div>"
      ],
      "text/plain": [
       "   color_blue  color_green  color_red\n",
       "0         0.0          0.0        1.0\n",
       "1         1.0          0.0        0.0\n",
       "2         0.0          1.0        0.0\n",
       "3         0.0          1.0        0.0\n",
       "4         0.0          0.0        1.0\n",
       "5         1.0          0.0        0.0"
      ]
     },
     "execution_count": 6,
     "metadata": {},
     "output_type": "execute_result"
    }
   ],
   "source": [
    "## real world example of nominal encoding \n",
    "## imorting modules\n",
    "import pandas as pd\n",
    "from sklearn.preprocessing import OneHotEncoder\n",
    "\n",
    "## data\n",
    "data = {'color':['red','blue','green','green','red','blue']}\n",
    "df=pd.DataFrame(data)\n",
    "\n",
    "## initializing the encoder\n",
    "encode = OneHotEncoder()\n",
    "\n",
    "## tranforming and fit the data\n",
    "encoder = encode.fit_transform(df).toarray()\n",
    "\n",
    "## displaying data with labels\n",
    "result = pd.DataFrame(encoder,columns=encode.get_feature_names_out())\n",
    "result"
   ]
  },
  {
   "cell_type": "markdown",
   "id": "edd4b1d8-28de-4d0d-bffd-8b08cc35e7c5",
   "metadata": {},
   "source": [
    "### 3. In what situations is ordinal encoding preferred over one-hot encoding? Provide a practical example."
   ]
  },
  {
   "cell_type": "markdown",
   "id": "8075ef46-4fe1-4f57-80d4-a17f766e4732",
   "metadata": {},
   "source": [
    "- Ordinal encoding is a technique that assigns unique integer value to each category based on thier order or rank. where as one-hot encoding assigns numerical value to categorical variable regardless of its rank. \n",
    "\n",
    "- ordinal encoding is preferred when there is a need of retaining the information of order/ranking in the categorical varaibles to allow accurate model training."
   ]
  },
  {
   "cell_type": "code",
   "execution_count": 22,
   "id": "20242ed3-17bf-4aae-9834-7267fc712480",
   "metadata": {},
   "outputs": [
    {
     "data": {
      "text/html": [
       "<div>\n",
       "<style scoped>\n",
       "    .dataframe tbody tr th:only-of-type {\n",
       "        vertical-align: middle;\n",
       "    }\n",
       "\n",
       "    .dataframe tbody tr th {\n",
       "        vertical-align: top;\n",
       "    }\n",
       "\n",
       "    .dataframe thead th {\n",
       "        text-align: right;\n",
       "    }\n",
       "</style>\n",
       "<table border=\"1\" class=\"dataframe\">\n",
       "  <thead>\n",
       "    <tr style=\"text-align: right;\">\n",
       "      <th></th>\n",
       "      <th>size</th>\n",
       "    </tr>\n",
       "  </thead>\n",
       "  <tbody>\n",
       "    <tr>\n",
       "      <th>0</th>\n",
       "      <td>0.0</td>\n",
       "    </tr>\n",
       "    <tr>\n",
       "      <th>1</th>\n",
       "      <td>2.0</td>\n",
       "    </tr>\n",
       "    <tr>\n",
       "      <th>2</th>\n",
       "      <td>1.0</td>\n",
       "    </tr>\n",
       "    <tr>\n",
       "      <th>3</th>\n",
       "      <td>2.0</td>\n",
       "    </tr>\n",
       "    <tr>\n",
       "      <th>4</th>\n",
       "      <td>0.0</td>\n",
       "    </tr>\n",
       "    <tr>\n",
       "      <th>5</th>\n",
       "      <td>1.0</td>\n",
       "    </tr>\n",
       "  </tbody>\n",
       "</table>\n",
       "</div>"
      ],
      "text/plain": [
       "   size\n",
       "0   0.0\n",
       "1   2.0\n",
       "2   1.0\n",
       "3   2.0\n",
       "4   0.0\n",
       "5   1.0"
      ]
     },
     "execution_count": 22,
     "metadata": {},
     "output_type": "execute_result"
    }
   ],
   "source": [
    "##  practical example\n",
    "## importing modules\n",
    "from sklearn.preprocessing import OrdinalEncoder\n",
    "import pandas as pd\n",
    "\n",
    "## data\n",
    "df = pd.DataFrame({\n",
    "    'size':['small','large','medium','large','small','medium']\n",
    "})\n",
    "\n",
    "## initiating the encoder\n",
    "ordinal = OrdinalEncoder(categories=[['small','medium','large']])\n",
    "\n",
    "## fit and transform of data\n",
    "ordinal_e = ordinal.fit_transform(df[['size']])\n",
    "\n",
    "## printing the data into dataframe\n",
    "result_ordinal = pd.DataFrame(ordinal_e,columns=ordinal.get_feature_names_out())\n",
    "\n",
    "result_ordinal"
   ]
  },
  {
   "cell_type": "markdown",
   "id": "2cbb951f-f11d-4434-a084-26f9fba00aa1",
   "metadata": {},
   "source": [
    "### 4. Suppose you have a dataset containing categorical data with 5 unique values. Which encoding technique would you use to transform this data into a format suitable for machine learning algorithms? Explain why you made this choice."
   ]
  },
  {
   "cell_type": "markdown",
   "id": "61cf3ae3-21f8-43b1-b12b-d9c440f3e3f8",
   "metadata": {},
   "source": [
    "- when dealing with ccategorical data with small number of unique values. one suitable encoding technique is one-hot encoding \n",
    "\n",
    "- one hot encoding converts each categorical data value into a binary vector where each unique value gets its own dimension, only one of it is set to hot (set to 1 ) and other are set to cold (0)\n",
    "\n",
    "- its suitable for this scenario because :\n",
    "1. Presaervation of information\n",
    "2. Compatibility with machine learning allgorithms\n",
    "3. Prevention of misinterpretation\n",
    "4. Dimensionality increase "
   ]
  },
  {
   "cell_type": "markdown",
   "id": "0b20d00e-b5e9-4a3d-9e9c-b58bd90cc6b5",
   "metadata": {},
   "source": [
    "### 5. In a machine learning project, you have a dataset with 1000 rows and 5 columns. Two of the columns are categorical, and the remaining three columns are numerical. If you were to use nominal encoding to transform the categorical data, how many new columns would be created? Show your calculations."
   ]
  },
  {
   "cell_type": "markdown",
   "id": "03940353-492a-4ca5-8ec2-d089b9f9a981",
   "metadata": {},
   "source": [
    "- to use nominal encoding to transform the categorical data,we create a new binary column for each unique category in each categorical feature. the number of new columns created depends on the number of unique categories present in each categorical feature.\n",
    "\n",
    "- lets say the categorical feature has n1 unique features and the second categorical has n2 unique features .\n",
    "\n",
    "for each categorical feature :\n",
    "1. we create n1 new columns for first categorical feature\n",
    "2. we create n2 new columns for second categorical feature\n",
    "\n",
    "total number of new columns created will be n1 + n2\n",
    "\n",
    "given : 1000 rows and 5 columns (2 cat, 3 numerical)\n",
    "\n",
    "assumption : \n",
    "1. first categorical feature has 4 unique categories (n1 = 4)\n",
    "2. second categorical feature has 3 uniuq categories (n2 = 3)\n",
    "\n",
    "using nominal encoding the new columns created will be (n1 + n2) = (4 + 3) = 7\n"
   ]
  },
  {
   "cell_type": "markdown",
   "id": "309cea52-de53-4f2c-804f-b7485d271c13",
   "metadata": {},
   "source": [
    "### 6. You are working with a dataset containing information about different types of animals, including their species, habitat, and diet. Which encoding technique would you use to transform the categorical data into a format suitable for machine learning algorithms? Justify your answer."
   ]
  },
  {
   "cell_type": "markdown",
   "id": "a5233bfc-0a10-45b6-8c5b-c64d0e3e4640",
   "metadata": {},
   "source": [
    "- the dataset contains information about different types of animals including thier species,habitat,diet suitable technique could be combination of ordinal and one-hot encoding. \n",
    "\n",
    "1. species : \n",
    "- oridnal encoding if the species clearly exhibit hierarchical or ordinal relationship, you could consider using ordinal encoding. \n",
    "- one-hot encoding if there is no inherent hierarchy among the species.\n",
    "\n",
    "2. Habitat and Diet :\n",
    "- one hot encoding since habitat and diet are categorical variables with no inherent order or hierarchy."
   ]
  },
  {
   "cell_type": "markdown",
   "id": "920bcd2e-d625-44e2-aea1-9af74fdff044",
   "metadata": {},
   "source": [
    "### 7. Q7.You are working on a project that involves predicting customer churn for a telecommunications company. You have a dataset with 5 features, including the customer's gender, age, contract type, monthly charges, and tenure. Which encoding technique(s) would you use to transform the categorical data into numerical data? Provide a step-by-step explanation of how you would implement the encoding."
   ]
  },
  {
   "cell_type": "markdown",
   "id": "da7018e6-fb55-4efd-a7e1-7a5f2b39adc5",
   "metadata": {},
   "source": [
    "- Gender encoding : Label encoding where male is encoded as 0 and female is 1\n",
    "- Contract encoding : Ordinal encoding with integer labels "
   ]
  },
  {
   "cell_type": "code",
   "execution_count": null,
   "id": "689df29a-9cf1-4be9-9277-d7031a979320",
   "metadata": {},
   "outputs": [],
   "source": [
    "## importing modules\n",
    "from sklearn.preprocessing import LabelEncoder\n",
    "from sklearn.preprocessing import OrdinalEncoder\n",
    "\n",
    "## initializing the encoders\n",
    "label_encoder = LabelEncoder()\n",
    "ordinal_encoder = OrdinalEncoder()\n",
    "\n",
    "## fit and transform data into new columns\n",
    "data['gender'] = label_encoder.fit_transform(data['gender'])\n",
    "data['contract_type'] = ordinal_encoder.fit_transform(data[['contract_type']])"
   ]
  }
 ],
 "metadata": {
  "kernelspec": {
   "display_name": "Python 3 (ipykernel)",
   "language": "python",
   "name": "python3"
  },
  "language_info": {
   "codemirror_mode": {
    "name": "ipython",
    "version": 3
   },
   "file_extension": ".py",
   "mimetype": "text/x-python",
   "name": "python",
   "nbconvert_exporter": "python",
   "pygments_lexer": "ipython3",
   "version": "3.10.8"
  }
 },
 "nbformat": 4,
 "nbformat_minor": 5
}
