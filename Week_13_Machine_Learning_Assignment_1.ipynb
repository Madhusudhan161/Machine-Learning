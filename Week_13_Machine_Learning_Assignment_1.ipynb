{
 "cells": [
  {
   "cell_type": "markdown",
   "id": "b0c39258-1f8a-48c7-a70b-460b0ed81480",
   "metadata": {},
   "source": [
    "### 1 . Explain the following"
   ]
  },
  {
   "cell_type": "markdown",
   "id": "ca7337b0-fdef-4bbc-8cdb-2d86edf09a9d",
   "metadata": {},
   "source": [
    "##### 1. Artificial intelligence : \n",
    "- Artificial Intelligence or AI refers to the development of computer systems that can perform tasks that typically require human intelligence. these tasks include learning,reasoning,problem solving,perception,languauge understanding,even decision making\n",
    "\n",
    "##### 2. Machine learniing :\n",
    "- machine learning is a field of artificial intelligence that involves the development of algorithms and models that allow computers to learn and make predictions or decisions based on data. the central concept of machine learning is to enable systems to improve thier performance on a specific task as they are exposed to more data over time.\n",
    "\n",
    "##### 3. Deep Learning :\n",
    "- Deep learning is subfield of machine learning that focuses on the use of artificial neural networks to model and solve complex problems. the term 'deep' refers to the use of deep neural netwroks, which are neural networks with many layers between input and output layers. these deep architectures are capable of  learning hierarchical representations of data, allowing them to automatically extract features and patterns from raw input."
   ]
  },
  {
   "cell_type": "markdown",
   "id": "c5ec6af7-ea43-45cb-9ca4-5cea206bf4e1",
   "metadata": {},
   "source": [
    "### 2 . what is supervised learning ? list some examples of supervised learning"
   ]
  },
  {
   "cell_type": "markdown",
   "id": "406a6e00-1984-48be-a531-6be73720d9ed",
   "metadata": {},
   "source": [
    "##### Supervised Learning :\n",
    "- Supervised learning is a type of machione learning where the algorithm is trained on a labeled dataset. which means that each training example in the dataset is paired with the correct output. the goal of supervised learning is to learn a mapping from input data to the corresponding output labels, allowing the algorithm to make predictions or decisions on new unseen data\n",
    "\n",
    "##### Example of Supervised Learning :\n",
    "1. Image classification : Given dataset of images with labeld categories, the algorithm learns to classify new images into these categories\n",
    "\n",
    "2. Medical Diagnosis : Given dataset of patient records with labeled outcomes, the algorithm can learn to predict the liklihood of a patient having a certain medical condition.\n",
    "\n",
    "3. Customer churn prediction : Using historical data on customers behaviour and whether they churned, an algorithm can predict the liklihood of future customers churning. "
   ]
  },
  {
   "cell_type": "markdown",
   "id": "04a3396d-2eeb-499a-968f-e346b3d19e22",
   "metadata": {},
   "source": [
    "### 3 . what is unsupervised learning ? list some examples of unsupervised learning"
   ]
  },
  {
   "cell_type": "markdown",
   "id": "262a28a5-9b33-474c-b673-729d7b460753",
   "metadata": {},
   "source": [
    "##### Unsupervised learning : \n",
    "- Unsupervised learning is a type of machine learning where the algorithm is provided with unlabeled data. and its objective is to discover patterns,relationships or structures within the data without explicit guidance. unlike supervised learning there are no predefined output labels for the algorithm ot learn from. the algoriothm must explore and find groups on its own.\n",
    "\n",
    "##### Examples of Unsupervised Learning :\n",
    "1. Clustering : in clustering the algorithm groups similar data point together based on some similarity metric 1. k-means clustering 2. Hierarchical clustering\n",
    "\n",
    "2. Anamoly Detection : This detection involves identifying data points that deviate significantly from the norm. 1. One-class SVM 2. Isolation Forest\n",
    "\n",
    "3. Self-Organizing Maps(SOMs) : SOMs are a type of artificial neural netwrok that can be used for clustering and visuaization of high-dimensional data."
   ]
  },
  {
   "cell_type": "markdown",
   "id": "ebbbe62d-b658-477d-b8a8-a4443e50ef73",
   "metadata": {},
   "source": [
    "### 4 . What is the difference between Ai,Ml,DL and DS ?"
   ]
  },
  {
   "cell_type": "markdown",
   "id": "04b9bda3-4d4f-4060-af50-a5f98c07254a",
   "metadata": {},
   "source": [
    "##### Differences between AI,ML,DL,DS are :\n",
    " - Ai : Ai is a broad field of computer science that aims to create machines or systems capable of tasks that typically require human. Ai is applied in areas like natural language processing,computer vision,robotics,game playing and expert systems.\n",
    " \n",
    "- ML : Machine learning is a subset if AI that focuses in develoing algorithm and models that enable computers to learn patterms from data and make decisions or predictions.ML is used in wide range of applications, including image and speech recognition,recommendation systems, fraud detection and predictive analysis.\n",
    "\n",
    "- DL : Deep learning is a subfield of machine learning that involves the uses of neural networks with many layers to automatically learn hierarchical representation of data.Dl has been particularly succeful in computer vision,speech network (CNN) and recurrent neural netwrok RNN are common architectures in deep learning.\n",
    "\n",
    "- DS : Data science is an interdiscplinary field that involves the extraction of insights and knowledge form structured and unstructured data.it incorporates various techniques from statistics,machine larning and domain specific knowledge. DS is applied in diverse fields such as business intelligence, healthcare analytics,finance,marketing and social science to make data driven decisions and predictions."
   ]
  },
  {
   "cell_type": "markdown",
   "id": "88651ce0-c713-4c08-9a1f-b223e7ed3116",
   "metadata": {},
   "source": [
    "### 5 . what are main differences between supervised,unsupervised and semi supervised learning ?"
   ]
  },
  {
   "cell_type": "markdown",
   "id": "cf0c8dc1-367c-4dd9-8cdb-189e001f92f4",
   "metadata": {},
   "source": [
    "##### Main differences between Supervised, Unsupervised and Semi supervised are :\n",
    "|           Supervised           |            Unsupervised              | Semi-Supervised        |\n",
    "|---------------------------------|-------------------------------------|--------------------------|\n",
    "|1. In supervised learning, the algorithm is trained on a labeled dataset. where each input data point is associated with a corresponding output label.| 1. Unsupervised learning involves training an algorithm on an unlabeled datset, where the algorithm must discover patterns and relationships within the data without guidance. | 1. Semi-supervised learning is a combination of supervised and unsupervised learning. the algorithm is trained on a datset that contains both labeled and unlabeled examples.|\n",
    "|2. the goal is to learn a mapping from input to outputs, making predictions or classification on new unseen data.|2. the primary goal is to find inherent structures or representations in data,such as clustering,dimensionality reduction,or density estimation|2. The algorithm leverages both labeled and unlabeled data to improve its performance. the idea is to use the unlabeled data to learn the underlying structure of the data and generalize better. while still benefitting from the labeled data for specific tasks|\n",
    "|3. Example of supervised learning are Classification problems,regression problems|3. Examples for unsupervised learning are clustering,dimensionality reduction.|3. Example for semi-supervised are when acquiring labeled data  is expensive or time-consuming.and there is large of amount of unlabeled data available, semi-supervised learning can be useful|"
   ]
  },
  {
   "cell_type": "markdown",
   "id": "b979ae5c-22f8-4795-8b26-e019b6bffdf5",
   "metadata": {},
   "source": [
    "### 6 . what is train,test and validation split ? Explain the importance of each term."
   ]
  },
  {
   "cell_type": "markdown",
   "id": "5ff4e64b-03d3-4801-816c-c6baf1969aec",
   "metadata": {},
   "source": [
    "##### Train :\n",
    " The training set is a subset of the dataset used to train a machine learning model. the modle learn patterns,relationships and parameters from this labeled data. \n",
    "##### Importance :\n",
    "- the taining set is crucial because it forms the foundation for the models understanding of the underlying pattern in the data. It also contributes to model's ability to make accurate predictions on new, unseen data.\n",
    "\n",
    "##### Test :\n",
    " The test set is seperate subset of the dataset that the model has not seen during training.it is used to evaluate the model's performance and generalization to unseeen data.\n",
    "##### Importance : \n",
    "- The test set provides an unbiased assessment of the model's performance.it helps gauge how well the model can make predictions on new data.\n",
    "\n",
    "##### Validation set :\n",
    "The validation set is an additional subset of the data that is used during the training phase but is not used to train the model. it helps tune hyperparameter and assess the models performance on data not seen during training.\n",
    "\n",
    "##### Importance : \n",
    "- The validation set aids in preventing overfitting by providig a set if data that the model has not explicitly seen. it allows tuning the model's parameter wihtout using the test set. "
   ]
  },
  {
   "cell_type": "markdown",
   "id": "7283d341-9870-4788-b15d-68308016834f",
   "metadata": {},
   "source": [
    "### 7 . How can unsupervised learning be used in anomaly detection ?"
   ]
  },
  {
   "cell_type": "markdown",
   "id": "3e7a333d-ef18-4441-85e6-c8a9efcea098",
   "metadata": {},
   "source": [
    "##### unsupervised learning :\n",
    "- can be used in anamoly detection because it doesnt required labeled data for training. anamoly detection aims to identify patterns or instances aht deviate significantly from the norm.\n",
    "\n",
    "1. Clustering : using k-means or DBscan to group data points into clusters based on thier similarity\n",
    "\n",
    "2. Density Estmation : using kernel density estimation or gaussia mixture models to model the underlying data.\n",
    "\n",
    "3. Autoencoders : These are type of neural network designed to encode data into a lower dimensional representation regions where data significanctly deviates from the norm.\n",
    "\n",
    "4. isolation forests : these are an ensemble learning method that builds a forest of isolation trees to isolate anamolies."
   ]
  },
  {
   "cell_type": "markdown",
   "id": "b26e82d4-dec7-4ae3-a246-a276596691ea",
   "metadata": {},
   "source": [
    "### 8 . List down some commonly used supervised learning algorithms and unsupervised learning algorithms."
   ]
  },
  {
   "cell_type": "markdown",
   "id": "d37c3f17-9363-4920-91c0-5775f6ee60f3",
   "metadata": {},
   "source": [
    "##### Supervised Learning :\n",
    "1. Linear regressoin : regression type predicting a continous output variables based on input features\n",
    "\n",
    "2. Logistic Regression : Classification type, binary classification problems where the output is probability between 0 and 1.\n",
    "\n",
    "3. Decision Tree : Classification and Regresion type, Hierarchical tree strucutres used for both classification and regression tasks.\n",
    "\n",
    "4. Random Forest : Ensemble learning type,combines multiple decision trees to improve accuracy and reduce overfitting\n",
    "\n",
    "##### Unsupervised Learning : \n",
    "1. K-means clustering : clustering type, partitioning data into clusters based on similarity.\n",
    "\n",
    "2. DBSCAN (Density based spatial clusteing of applications with noise) : clusteing type,identifies clusters based on density in data space.\n",
    "\n",
    "3. Gaussian Mixture Model : clustering type, Represents a mixture of gaussian distribution of model complex data distributions\n",
    "\n",
    "4. Principal component Analysis (PCA) : Dimensionality reduction type,reduces the dimensionality of data while retaining as much variance as possible."
   ]
  }
 ],
 "metadata": {
  "kernelspec": {
   "display_name": "Python 3 (ipykernel)",
   "language": "python",
   "name": "python3"
  },
  "language_info": {
   "codemirror_mode": {
    "name": "ipython",
    "version": 3
   },
   "file_extension": ".py",
   "mimetype": "text/x-python",
   "name": "python",
   "nbconvert_exporter": "python",
   "pygments_lexer": "ipython3",
   "version": "3.10.8"
  }
 },
 "nbformat": 4,
 "nbformat_minor": 5
}
